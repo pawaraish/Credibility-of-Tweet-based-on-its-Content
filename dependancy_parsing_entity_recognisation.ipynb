{
  "nbformat": 4,
  "nbformat_minor": 0,
  "metadata": {
    "colab": {
      "provenance": []
    },
    "kernelspec": {
      "name": "python3",
      "display_name": "Python 3"
    },
    "language_info": {
      "name": "python"
    }
  },
  "cells": [
    {
      "cell_type": "code",
      "source": [
        "import spacy\n",
        "nlp=spacy.load('en_core_web_sm')\n",
        "\n",
        "text='i went to gec college.'\n",
        "\n",
        "for token in nlp(text):\n",
        " print(token.text,'->',token.dep_,'->',token.head.text)"
      ],
      "metadata": {
        "colab": {
          "base_uri": "https://localhost:8080/"
        },
        "id": "4sJs5JVkvcyL",
        "outputId": "bd4e2259-7483-471a-a1d9-a4244756fc9e"
      },
      "execution_count": null,
      "outputs": [
        {
          "output_type": "stream",
          "name": "stdout",
          "text": [
            "i -> nsubj -> went\n",
            "went -> ROOT -> went\n",
            "to -> prep -> went\n",
            "gec -> compound -> college\n",
            "college -> pobj -> to\n",
            ". -> punct -> went\n"
          ]
        }
      ]
    },
    {
      "cell_type": "code",
      "source": [
        "custom_about_text = (\n",
        "...     \"i am going to mumbai i will go to lodon next week\"\n",
        "... )\n",
        ">>> nlp = spacy.load(\"en_core_web_sm\")\n",
        ">>> about_doc = nlp(custom_about_text)\n",
        ">>> print([token for token in about_doc if not token.is_stop])"
      ],
      "metadata": {
        "colab": {
          "base_uri": "https://localhost:8080/"
        },
        "id": "mMnWtbWAxK09",
        "outputId": "1933dded-667f-443c-82a9-4750ea880947"
      },
      "execution_count": null,
      "outputs": [
        {
          "output_type": "stream",
          "name": "stdout",
          "text": [
            "[going, mumbai, lodon, week]\n"
          ]
        }
      ]
    },
    {
      "cell_type": "code",
      "source": [
        "#word frequency to perform statistical analysis\n",
        "import spacy\n",
        ">>> from collections import Counter\n",
        ">>> nlp = spacy.load(\"en_core_web_sm\")\n",
        ">>> complete_text = (\n",
        "...     \"#give your best to work morever the work will remain close to us however we dont like the work\"\n",
        "... )\n",
        ">>> complete_doc = nlp(complete_text)\n",
        "\n",
        ">>> words = [\n",
        "...     token.text\n",
        "...     for token in complete_doc\n",
        "...     if not token.is_stop and not token.is_punct\n",
        "... ]\n",
        "\n",
        ">>> print(Counter(words).most_common(5))"
      ],
      "metadata": {
        "colab": {
          "base_uri": "https://localhost:8080/"
        },
        "id": "rmk9SQC-yd34",
        "outputId": "7cf6d7c1-f999-45ca-fd38-f90ce6a1d16e"
      },
      "execution_count": null,
      "outputs": [
        {
          "output_type": "stream",
          "name": "stdout",
          "text": [
            "[('work', 3), ('best', 1), ('morever', 1), ('remain', 1), ('close', 1)]\n"
          ]
        }
      ]
    },
    {
      "cell_type": "code",
      "source": [
        "import spacy\n",
        ">>> nlp = spacy.load(\"en_core_web_sm\")\n",
        "\n",
        ">>> piano_class_text = (\n",
        "...     \"Great Piano Academy is situated\"\n",
        "\n",
        "... )\n",
        ">>> piano_class_doc = nlp(piano_class_text)\n",
        "\n",
        ">>> for ent in piano_class_doc.ents:\n",
        "...     print(\n",
        "...         f\"\"\"\n",
        "... {ent.text = }\n",
        "... {ent.start_char = }\n",
        "... {ent.end_char = }\n",
        "... {ent.label_ = }\n",
        "... spacy.explain('{ent.label_}') = {spacy.explain(ent.label_)}\"\"\"\n",
        "... )"
      ],
      "metadata": {
        "colab": {
          "base_uri": "https://localhost:8080/"
        },
        "id": "QJKsR5JMzm_f",
        "outputId": "5cf87b1a-225c-4aed-8dd5-d64a8e551f7a"
      },
      "execution_count": null,
      "outputs": [
        {
          "output_type": "stream",
          "name": "stdout",
          "text": [
            "\n",
            "ent.text = 'Great Piano Academy'\n",
            "ent.start_char = 0\n",
            "ent.end_char = 19\n",
            "ent.label_ = 'ORG'\n",
            "spacy.explain('ORG') = Companies, agencies, institutions, etc.\n"
          ]
        }
      ]
    }
  ]
}