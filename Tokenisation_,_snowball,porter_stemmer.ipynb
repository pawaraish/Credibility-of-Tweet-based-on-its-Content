{
  "cells": [
    {
      "cell_type": "code",
      "execution_count": null,
      "metadata": {
        "colab": {
          "base_uri": "https://localhost:8080/"
        },
        "id": "S34EEMlgnP3Y",
        "outputId": "9764109c-6045-4362-abd6-7f604a0463f7"
      },
      "outputs": [
        {
          "name": "stdout",
          "output_type": "stream",
          "text": [
            "# SYM\n",
            "Budget2023 NOUN\n",
            "@BabuKavlekar X\n",
            "https://t.co/dQxrQkxPyQ PROPN\n"
          ]
        }
      ],
      "source": [
        "\n",
        "import spacy\n",
        "sp = spacy.load('en_core_web_sm')\n",
        "sentence = sp(u'#Budget2023 @BabuKavlekar https://t.co/dQxrQkxPyQ')\n",
        "for word in sentence:\n",
        "  print(word.text, word.pos_)\n"
      ]
    },
    {
      "cell_type": "code",
      "execution_count": null,
      "metadata": {
        "id": "MtvqHbmWuKvj"
      },
      "outputs": [],
      "source": []
    },
    {
      "cell_type": "code",
      "execution_count": null,
      "metadata": {
        "colab": {
          "base_uri": "https://localhost:8080/"
        },
        "id": "q94J6s-ztiaD",
        "outputId": "af856573-e624-451d-cf67-477f77d39733"
      },
      "outputs": [
        {
          "name": "stdout",
          "output_type": "stream",
          "text": [
            "DIRECTS --> direct\n",
            "COMPENSATION --> compens\n",
            "PETITIONER --> petition\n",
            "CLEANED --> clean\n",
            "LAKHS --> lakh\n"
          ]
        }
      ],
      "source": [
        "import nltk\n",
        "\n",
        "from nltk.stem.porter import *\n",
        "stemmer = PorterStemmer()\n",
        "tokens = ['DIRECTS', 'COMPENSATION', 'PETITIONER', 'CLEANED','LAKHS']\n",
        "for token in tokens:\n",
        "    print(token + ' --> ' + stemmer.stem(token))"
      ]
    },
    {
      "cell_type": "code",
      "execution_count": null,
      "metadata": {
        "id": "spPCutnyRHZr"
      },
      "outputs": [],
      "source": []
    },
    {
      "cell_type": "code",
      "execution_count": null,
      "metadata": {
        "colab": {
          "base_uri": "https://localhost:8080/"
        },
        "id": "3rEKVWtbwzlM",
        "outputId": "29ad1952-6107-4a41-8236-26c3052f5ca4"
      },
      "outputs": [
        {
          "name": "stdout",
          "output_type": "stream",
          "text": [
            "Tourism --> tourism\n",
            "crimenewes --> crimenew\n",
            "# #\n",
            "Goa Goa\n",
            "# #\n",
            "HC HC\n",
            "# #\n",
            "Legal legal\n",
            "# #\n",
            "Disqualification disqualification\n",
            "# #\n",
            "Petition Petition\n",
            "https://t.co/dHYtGmW5oD https://t.co/dhytgmw5od\n",
            "#  ===> #\n",
            "Goa  ===> Goa\n",
            "#  ===> #\n",
            "Politics  ===> politic\n",
            "#  ===> #\n",
            "Municipality  ===> Municipality\n",
            "#  ===> #\n",
            "Elections  ===> election\n",
            "https://t.co/6UffNmlIqm  ===> https://t.co/6uffnmliqm\n"
          ]
        }
      ],
      "source": [
        "from nltk.stem.snowball import SnowballStemmer\n",
        "\n",
        "stemmer = SnowballStemmer(language='english')\n",
        "\n",
        "tokens = ['Tourism', 'crimenewes']\n",
        "\n",
        "for token in tokens:\n",
        "    print(token + ' --> ' + stemmer.stem(token))\n",
        "sentence6 = sp(u'#Goa #HC #Legal #Disqualification #Petition https://t.co/dHYtGmW5oD')\n",
        "for word in sentence6:\n",
        "    print(word.text,  word.lemma_)\n",
        "sentence7 = sp(u'#Goa #Politics #Municipality #Elections https://t.co/6UffNmlIqm')\n",
        "\n",
        "for word in sentence7:\n",
        "    print(word.text + '  ===>', word.lemma_)"
      ]
    },
    {
      "cell_type": "code",
      "execution_count": null,
      "metadata": {
        "colab": {
          "base_uri": "https://localhost:8080/"
        },
        "id": "VKUjF1khrOI8",
        "outputId": "9b4512d2-009b-4830-dadd-15d722b8e2fc"
      },
      "outputs": [
        {
          "name": "stdout",
          "output_type": "stream",
          "text": [
            "# X\n",
            "Goa PROPN\n",
            "# SYM\n",
            "Tourism PROPN\n",
            "# SYM\n",
            "Budget2023 NOUN\n",
            "# SYM\n",
            "UnionBudget PROPN\n",
            "https://t.co/faF6BQ5nY4 PROPN\n",
            "#Goa # - MONEY - Monetary values, including unit\n",
            "#Tourism --> #tourism\n",
            " #Budget2023 -->  #budget2023\n",
            "# - CARDINAL - Numerals that do not fall under another type\n",
            "#Tourism --> #tourism\n",
            " #Budget2023 -->  #budget2023\n",
            "# - CARDINAL - Numerals that do not fall under another type\n",
            "#Tourism --> #tourism\n",
            " #Budget2023 -->  #budget2023\n",
            "UnionBudget - ORG - Companies, agencies, institutions, etc.\n",
            "#Tourism --> #tourism\n",
            " #Budget2023 -->  #budget2023\n"
          ]
        }
      ],
      "source": [
        "import spacy\n",
        "import nltk\n",
        "\n",
        "from nltk.stem.porter import *\n",
        "stemmer = PorterStemmer()\n",
        "sp = spacy.load('en_core_web_sm')\n",
        "sentence = sp(u'#Goa #Tourism #Budget2023 #UnionBudget https://t.co/faF6BQ5nY4')\n",
        "for word in sentence:\n",
        "  print(word.text, word.pos_)\n",
        "for entity in sentence.ents:\n",
        "  print(entity.text + ' - ' + entity.label_ + ' - ' + str(spacy.explain(entity.label_)))\n",
        "  tokens = ['#Tourism', ' #Budget2023']\n",
        "  for token in tokens:\n",
        "    print(token + ' --> ' + stemmer.stem(token))\n"
      ]
    },
    {
      "cell_type": "code",
      "execution_count": null,
      "metadata": {
        "colab": {
          "base_uri": "https://localhost:8080/"
        },
        "id": "jPLfZ4wcNInN",
        "outputId": "167a6229-3d18-4c85-bbcb-8aa8056961ea"
      },
      "outputs": [
        {
          "name": "stdout",
          "output_type": "stream",
          "text": [
            "['#Goa', '#crime', '#crimenews', '#burglary', '@spnorthgoa', 'https://t.co/5hOZ4nvZHI']\n"
          ]
        }
      ],
      "source": [
        "s = \"#Goa #crime #crimenews #burglary @spnorthgoa https://t.co/5hOZ4nvZHI\"\n",
        "lst = s.split()\n",
        "print(lst)"
      ]
    }
  ],
  "metadata": {
    "colab": {
      "provenance": []
    },
    "kernelspec": {
      "display_name": "Python 3",
      "name": "python3"
    }
  },
  "nbformat": 4,
  "nbformat_minor": 0
}
