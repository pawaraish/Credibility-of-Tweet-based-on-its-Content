{
  "cells": [
    {
      "cell_type": "code",
      "execution_count": null,
      "metadata": {
        "id": "lfHPOnZPGC1i"
      },
      "outputs": [],
      "source": [
        "from textblob import Word\n",
        "\n",
        "\n",
        "def correct_word_spelling(word):\n",
        "\n",
        "    word = Word(word)\n",
        "\n",
        "    result = word.correct()\n",
        "\n",
        "    print(result)\n",
        "\n",
        "\n",
        "correct_word_spellin('pproject')"
      ]
    },
    {
      "cell_type": "code",
      "execution_count": null,
      "metadata": {
        "colab": {
          "base_uri": "https://localhost:8080/"
        },
        "id": "9u3UFYmcGZZm",
        "outputId": "0a87c41d-3b6a-4f64-f2d9-d52be63fbc18"
      },
      "outputs": [
        {
          "name": "stdout",
          "output_type": "stream",
          "text": [
            "A gifts to be presented!\n"
          ]
        }
      ],
      "source": [
        "from textblob import TextBlob\n",
        "sentence = TextBlob('A gifts to be preeseented!')\n",
        "result = sentence.correct()\n",
        "\n",
        "print(result)"
      ]
    },
    {
      "cell_type": "code",
      "execution_count": null,
      "metadata": {
        "colab": {
          "base_uri": "https://localhost:8080/"
        },
        "id": "ivOV3j6wFCSu",
        "outputId": "c2ae212e-cbaa-4b17-d997-c520b6397149"
      },
      "outputs": [
        {
          "name": "stdout",
          "output_type": "stream",
          "text": [
            "ppresenterrr\n"
          ]
        }
      ],
      "source": [
        "from textblob import Word\n",
        "word = Word('ppresenterrr')\n",
        "result = word.correct()\n",
        "\n",
        "print(result)"
      ]
    }
  ],
  "metadata": {
    "colab": {
      "provenance": []
    },
    "kernelspec": {
      "display_name": "Python 3",
      "name": "python3"
    },
    "language_info": {
      "name": "python"
    }
  },
  "nbformat": 4,
  "nbformat_minor": 0
}
