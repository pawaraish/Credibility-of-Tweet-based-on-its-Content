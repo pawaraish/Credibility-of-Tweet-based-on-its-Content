{
  "cells": [
    {
      "cell_type": "code",
      "execution_count": null,
      "metadata": {
        "colab": {
          "base_uri": "https://localhost:8080/"
        },
        "id": "3rEKVWtbwzlM",
        "outputId": "29ad1952-6107-4a41-8236-26c3052f5ca4"
      },
      "outputs": [
        {
          "name": "stdout",
          "output_type": "stream",
          "text": [
            "Tourism --> tourism\n",
            "crimenewes --> crimenew\n",
            "# #\n",
            "Goa Goa\n",
            "# #\n",
            "HC HC\n",
            "# #\n",
            "Legal legal\n",
            "# #\n",
            "Disqualification disqualification\n",
            "# #\n",
            "Petition Petition\n",
            "https://t.co/dHYtGmW5oD https://t.co/dhytgmw5od\n",
            "#  ===> #\n",
            "Goa  ===> Goa\n",
            "#  ===> #\n",
            "Politics  ===> politic\n",
            "#  ===> #\n",
            "Municipality  ===> Municipality\n",
            "#  ===> #\n",
            "Elections  ===> election\n",
            "https://t.co/6UffNmlIqm  ===> https://t.co/6uffnmliqm\n"
          ]
        }
      ],
      "source": [
        "from nltk.stem.snowball import SnowballStemmer\n",
        "\n",
        "stemmer = SnowballStemmer(language='english')\n",
        "\n",
        "tokens = ['Tourism', 'crimenewes']\n",
        "\n",
        "for token in tokens:\n",
        "    print(token + ' --> ' + stemmer.stem(token))\n",
        "sentence6 = sp(u'#Goa #HC #Legal #Disqualification #Petition https://t.co/dHYtGmW5oD')\n",
        "for word in sentence6:\n",
        "    print(word.text,  word.lemma_)\n",
        "sentence7 = sp(u'#Goa #Politics #Municipality #Elections https://t.co/6UffNmlIqm')\n",
        "\n",
        "for word in sentence7:\n",
        "    print(word.text + '  ===>', word.lemma_)"
      ]
    },
    {
      "cell_type": "code",
      "execution_count": null,
      "metadata": {
        "colab": {
          "base_uri": "https://localhost:8080/"
        },
        "id": "VKUjF1khrOI8",
        "outputId": "d46096c7-d40e-46e0-c08e-617404c86884"
      },
      "outputs": [
        {
          "name": "stderr",
          "output_type": "stream",
          "text": [
            "/usr/local/lib/python3.9/dist-packages/torch/cuda/__init__.py:497: UserWarning: Can't initialize NVML\n",
            "  warnings.warn(\"Can't initialize NVML\")\n"
          ]
        },
        {
          "name": "stdout",
          "output_type": "stream",
          "text": [
            "# X\n",
            "Goa PROPN\n",
            "# SYM\n",
            "Tourism PROPN\n",
            "# SYM\n",
            "Budget2023 NOUN\n",
            "# SYM\n",
            "UnionBudget PROPN\n",
            "https://t.co/faF6BQ5nY4 PROPN\n",
            "#Goa # - MONEY - Monetary values, including unit\n",
            "#Tourism --> #tourism\n",
            " #Budget2023 -->  #budget2023\n",
            "# - CARDINAL - Numerals that do not fall under another type\n",
            "#Tourism --> #tourism\n",
            " #Budget2023 -->  #budget2023\n",
            "# - CARDINAL - Numerals that do not fall under another type\n",
            "#Tourism --> #tourism\n",
            " #Budget2023 -->  #budget2023\n",
            "UnionBudget - ORG - Companies, agencies, institutions, etc.\n",
            "#Tourism --> #tourism\n",
            " #Budget2023 -->  #budget2023\n"
          ]
        }
      ],
      "source": [
        "import spacy\n",
        "import nltk\n",
        "\n",
        "from nltk.stem.porter import *\n",
        "stemmer = PorterStemmer()\n",
        "sp = spacy.load('en_core_web_sm')\n",
        "sentence = sp(u'#Goa #Tourism #Budget2023 #UnionBudget https://t.co/faF6BQ5nY4')\n",
        "for word in sentence:\n",
        "  print(word.text, word.pos_)\n",
        "for entity in sentence.ents:\n",
        "  print(entity.text + ' - ' + entity.label_ + ' - ' + str(spacy.explain(entity.label_)))\n",
        "  tokens = ['#Tourism', ' #Budget2023']\n",
        "  for token in tokens:\n",
        "    print(token + ' --> ' + stemmer.stem(token))\n"
      ]
    },
    {
      "cell_type": "code",
      "execution_count": null,
      "metadata": {
        "colab": {
          "base_uri": "https://localhost:8080/"
        },
        "id": "jPLfZ4wcNInN",
        "outputId": "d62db9be-5333-4444-fe66-a833f7f08917"
      },
      "outputs": [
        {
          "name": "stdout",
          "output_type": "stream",
          "text": [
            "['#Goa', '#crime', '#crimenews', '#burglary', '@spnorthgoa', 'https://t.co/5hOZ4nvZHI']\n"
          ]
        }
      ],
      "source": [
        "s = \"#Goa #crime #crimenews #burglary @spnorthgoa https://t.co/5hOZ4nvZHI\"\n",
        "lst = s.split()\n",
        "print(lst)"
      ]
    }
  ],
  "metadata": {
    "colab": {
      "provenance": []
    },
    "kernelspec": {
      "display_name": "Python 3",
      "name": "python3"
    }
  },
  "nbformat": 4,
  "nbformat_minor": 0
}
